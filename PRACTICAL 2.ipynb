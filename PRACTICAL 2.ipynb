{
 "cells": [
  {
   "cell_type": "code",
   "execution_count": 1,
   "id": "1a583860",
   "metadata": {},
   "outputs": [],
   "source": [
    "# import libraries\n",
    "import numpy as np\n",
    "import pandas as pd\n",
    "import matplotlib.pyplot as plt\n",
    "import seaborn as sns"
   ]
  },
  {
   "cell_type": "code",
   "execution_count": 2,
   "id": "27adfc7a",
   "metadata": {},
   "outputs": [
    {
     "data": {
      "text/html": [
       "<div>\n",
       "<style scoped>\n",
       "    .dataframe tbody tr th:only-of-type {\n",
       "        vertical-align: middle;\n",
       "    }\n",
       "\n",
       "    .dataframe tbody tr th {\n",
       "        vertical-align: top;\n",
       "    }\n",
       "\n",
       "    .dataframe thead th {\n",
       "        text-align: right;\n",
       "    }\n",
       "</style>\n",
       "<table border=\"1\" class=\"dataframe\">\n",
       "  <thead>\n",
       "    <tr style=\"text-align: right;\">\n",
       "      <th></th>\n",
       "      <th>teacher_id</th>\n",
       "      <th>gender</th>\n",
       "      <th>beauty</th>\n",
       "      <th>rating</th>\n",
       "      <th>tenure</th>\n",
       "      <th>students</th>\n",
       "    </tr>\n",
       "  </thead>\n",
       "  <tbody>\n",
       "    <tr>\n",
       "      <th>0</th>\n",
       "      <td>1</td>\n",
       "      <td>F</td>\n",
       "      <td>7.1</td>\n",
       "      <td>4.7</td>\n",
       "      <td>No</td>\n",
       "      <td>55</td>\n",
       "    </tr>\n",
       "    <tr>\n",
       "      <th>1</th>\n",
       "      <td>2</td>\n",
       "      <td>M</td>\n",
       "      <td>6.3</td>\n",
       "      <td>4.2</td>\n",
       "      <td>Yes</td>\n",
       "      <td>65</td>\n",
       "    </tr>\n",
       "    <tr>\n",
       "      <th>2</th>\n",
       "      <td>3</td>\n",
       "      <td>F</td>\n",
       "      <td>8.0</td>\n",
       "      <td>4.9</td>\n",
       "      <td>No</td>\n",
       "      <td>40</td>\n",
       "    </tr>\n",
       "    <tr>\n",
       "      <th>3</th>\n",
       "      <td>4</td>\n",
       "      <td>M</td>\n",
       "      <td>5.9</td>\n",
       "      <td>3.9</td>\n",
       "      <td>Yes</td>\n",
       "      <td>75</td>\n",
       "    </tr>\n",
       "    <tr>\n",
       "      <th>4</th>\n",
       "      <td>5</td>\n",
       "      <td>M</td>\n",
       "      <td>6.5</td>\n",
       "      <td>4.4</td>\n",
       "      <td>No</td>\n",
       "      <td>60</td>\n",
       "    </tr>\n",
       "    <tr>\n",
       "      <th>5</th>\n",
       "      <td>6</td>\n",
       "      <td>F</td>\n",
       "      <td>7.2</td>\n",
       "      <td>4.6</td>\n",
       "      <td>Yes</td>\n",
       "      <td>50</td>\n",
       "    </tr>\n",
       "    <tr>\n",
       "      <th>6</th>\n",
       "      <td>7</td>\n",
       "      <td>M</td>\n",
       "      <td>6.1</td>\n",
       "      <td>4.0</td>\n",
       "      <td>No</td>\n",
       "      <td>80</td>\n",
       "    </tr>\n",
       "    <tr>\n",
       "      <th>7</th>\n",
       "      <td>8</td>\n",
       "      <td>F</td>\n",
       "      <td>7.8</td>\n",
       "      <td>4.8</td>\n",
       "      <td>Yes</td>\n",
       "      <td>45</td>\n",
       "    </tr>\n",
       "    <tr>\n",
       "      <th>8</th>\n",
       "      <td>9</td>\n",
       "      <td>M</td>\n",
       "      <td>5.7</td>\n",
       "      <td>3.7</td>\n",
       "      <td>No</td>\n",
       "      <td>70</td>\n",
       "    </tr>\n",
       "    <tr>\n",
       "      <th>9</th>\n",
       "      <td>10</td>\n",
       "      <td>F</td>\n",
       "      <td>8.4</td>\n",
       "      <td>4.9</td>\n",
       "      <td>Yes</td>\n",
       "      <td>85</td>\n",
       "    </tr>\n",
       "    <tr>\n",
       "      <th>10</th>\n",
       "      <td>11</td>\n",
       "      <td>M</td>\n",
       "      <td>6.0</td>\n",
       "      <td>4.1</td>\n",
       "      <td>Yes</td>\n",
       "      <td>90</td>\n",
       "    </tr>\n",
       "    <tr>\n",
       "      <th>11</th>\n",
       "      <td>12</td>\n",
       "      <td>F</td>\n",
       "      <td>7.3</td>\n",
       "      <td>4.5</td>\n",
       "      <td>No</td>\n",
       "      <td>35</td>\n",
       "    </tr>\n",
       "    <tr>\n",
       "      <th>12</th>\n",
       "      <td>13</td>\n",
       "      <td>M</td>\n",
       "      <td>6.8</td>\n",
       "      <td>4.3</td>\n",
       "      <td>Yes</td>\n",
       "      <td>75</td>\n",
       "    </tr>\n",
       "    <tr>\n",
       "      <th>13</th>\n",
       "      <td>14</td>\n",
       "      <td>F</td>\n",
       "      <td>7.5</td>\n",
       "      <td>4.6</td>\n",
       "      <td>No</td>\n",
       "      <td>60</td>\n",
       "    </tr>\n",
       "    <tr>\n",
       "      <th>14</th>\n",
       "      <td>15</td>\n",
       "      <td>M</td>\n",
       "      <td>5.6</td>\n",
       "      <td>3.8</td>\n",
       "      <td>Yes</td>\n",
       "      <td>50</td>\n",
       "    </tr>\n",
       "    <tr>\n",
       "      <th>15</th>\n",
       "      <td>16</td>\n",
       "      <td>F</td>\n",
       "      <td>7.9</td>\n",
       "      <td>4.7</td>\n",
       "      <td>No</td>\n",
       "      <td>95</td>\n",
       "    </tr>\n",
       "    <tr>\n",
       "      <th>16</th>\n",
       "      <td>17</td>\n",
       "      <td>M</td>\n",
       "      <td>6.4</td>\n",
       "      <td>4.2</td>\n",
       "      <td>Yes</td>\n",
       "      <td>40</td>\n",
       "    </tr>\n",
       "    <tr>\n",
       "      <th>17</th>\n",
       "      <td>18</td>\n",
       "      <td>F</td>\n",
       "      <td>8.1</td>\n",
       "      <td>4.9</td>\n",
       "      <td>No</td>\n",
       "      <td>85</td>\n",
       "    </tr>\n",
       "    <tr>\n",
       "      <th>18</th>\n",
       "      <td>19</td>\n",
       "      <td>M</td>\n",
       "      <td>5.8</td>\n",
       "      <td>3.9</td>\n",
       "      <td>Yes</td>\n",
       "      <td>55</td>\n",
       "    </tr>\n",
       "    <tr>\n",
       "      <th>19</th>\n",
       "      <td>20</td>\n",
       "      <td>F</td>\n",
       "      <td>7.0</td>\n",
       "      <td>4.4</td>\n",
       "      <td>No</td>\n",
       "      <td>65</td>\n",
       "    </tr>\n",
       "  </tbody>\n",
       "</table>\n",
       "</div>"
      ],
      "text/plain": [
       "    teacher_id gender  beauty  rating tenure  students\n",
       "0            1      F     7.1     4.7     No        55\n",
       "1            2      M     6.3     4.2    Yes        65\n",
       "2            3      F     8.0     4.9     No        40\n",
       "3            4      M     5.9     3.9    Yes        75\n",
       "4            5      M     6.5     4.4     No        60\n",
       "5            6      F     7.2     4.6    Yes        50\n",
       "6            7      M     6.1     4.0     No        80\n",
       "7            8      F     7.8     4.8    Yes        45\n",
       "8            9      M     5.7     3.7     No        70\n",
       "9           10      F     8.4     4.9    Yes        85\n",
       "10          11      M     6.0     4.1    Yes        90\n",
       "11          12      F     7.3     4.5     No        35\n",
       "12          13      M     6.8     4.3    Yes        75\n",
       "13          14      F     7.5     4.6     No        60\n",
       "14          15      M     5.6     3.8    Yes        50\n",
       "15          16      F     7.9     4.7     No        95\n",
       "16          17      M     6.4     4.2    Yes        40\n",
       "17          18      F     8.1     4.9     No        85\n",
       "18          19      M     5.8     3.9    Yes        55\n",
       "19          20      F     7.0     4.4     No        65"
      ]
     },
     "execution_count": 2,
     "metadata": {},
     "output_type": "execute_result"
    }
   ],
   "source": [
    "import pandas as pd\n",
    "\n",
    "data = {\n",
    "    'teacher_id': list(range(1, 21)),\n",
    "    'gender': ['F', 'M', 'F', 'M', 'M', 'F', 'M', 'F', 'M', 'F',\n",
    "               'M', 'F', 'M', 'F', 'M', 'F', 'M', 'F', 'M', 'F'],\n",
    "    'beauty': [7.1, 6.3, 8.0, 5.9, 6.5, 7.2, 6.1, 7.8, 5.7, 8.4,\n",
    "               6.0, 7.3, 6.8, 7.5, 5.6, 7.9, 6.4, 8.1, 5.8, 7.0],\n",
    "    'rating': [4.7, 4.2, 4.9, 3.9, 4.4, 4.6, 4.0, 4.8, 3.7, 4.9,\n",
    "               4.1, 4.5, 4.3, 4.6, 3.8, 4.7, 4.2, 4.9, 3.9, 4.4],\n",
    "    'tenure': ['No', 'Yes', 'No', 'Yes', 'No', 'Yes', 'No', 'Yes', 'No', 'Yes',\n",
    "               'Yes', 'No', 'Yes', 'No', 'Yes', 'No', 'Yes', 'No', 'Yes', 'No'],\n",
    "    'students': [55, 65, 40, 75, 60, 50, 80, 45, 70, 85,\n",
    "                 90, 35, 75, 60, 50, 95, 40, 85, 55, 65]\n",
    "}\n",
    "\n",
    "df = pd.DataFrame(data)\n",
    "df\n"
   ]
  },
  {
   "cell_type": "markdown",
   "id": "5523e668",
   "metadata": {},
   "source": [
    "Q1. Can you identify whether teachers Rating Data is a time serires or cross sectional?"
   ]
  },
  {
   "cell_type": "code",
   "execution_count": 3,
   "id": "983d9a50",
   "metadata": {},
   "outputs": [
    {
     "name": "stdout",
     "output_type": "stream",
     "text": [
      "The Teachers Rating Data is Cross-Sectional — because it captures data for different teachers at a single point in time, not over multiple time periods.\n"
     ]
    }
   ],
   "source": [
    "# Q1. Identify whether teachers Rating Data is time series or cross sectional\n",
    "print(\"The Teachers Rating Data is Cross-Sectional — because it captures \\\n",
    "data for different teachers at a single point in time, not over multiple time periods.\")"
   ]
  },
  {
   "cell_type": "markdown",
   "id": "56369034",
   "metadata": {},
   "source": [
    "Q2. Find the mean, median, minimum and maximum values for the students."
   ]
  },
  {
   "cell_type": "code",
   "execution_count": 4,
   "id": "bdbad7be",
   "metadata": {},
   "outputs": [
    {
     "name": "stdout",
     "output_type": "stream",
     "text": [
      "Mean students: 63.75\n",
      "Median students: 62.5\n",
      "Min students: 35\n",
      "Max students: 95 \n",
      "\n"
     ]
    }
   ],
   "source": [
    "# Q2. Find mean, median, min, max for students\n",
    "print(\"Mean students:\", df['students'].mean())\n",
    "print(\"Median students:\", df['students'].median())\n",
    "print(\"Min students:\", df['students'].min())\n",
    "print(\"Max students:\", df['students'].max(), \"\\n\")"
   ]
  },
  {
   "cell_type": "markdown",
   "id": "a3446d12",
   "metadata": {},
   "source": [
    "Q3. Produce the descriptive statistics table."
   ]
  },
  {
   "cell_type": "code",
   "execution_count": 6,
   "id": "ca544f79",
   "metadata": {},
   "outputs": [
    {
     "name": "stdout",
     "output_type": "stream",
     "text": [
      "Descriptive Statistics Table:\n",
      "        teacher_id    beauty     rating   students\n",
      "count    20.00000  20.00000  20.000000  20.000000\n",
      "mean     10.50000   6.87000   4.375000  63.750000\n",
      "std       5.91608   0.88621   0.387808  17.761208\n",
      "min       1.00000   5.60000   3.700000  35.000000\n",
      "25%       5.75000   6.07500   4.075000  50.000000\n",
      "50%      10.50000   6.90000   4.400000  62.500000\n",
      "75%      15.25000   7.57500   4.700000  76.250000\n",
      "max      20.00000   8.40000   4.900000  95.000000\n"
     ]
    }
   ],
   "source": [
    "# Q3. Produce descriptive statistics table\n",
    "print(\"Descriptive Statistics Table:\\n\", df.describe())\n",
    "     "
   ]
  },
  {
   "cell_type": "markdown",
   "id": "25cea5b3",
   "metadata": {},
   "source": [
    "Q4. Create a histogram of the beauty variable and breifly comment on the distribution of the data."
   ]
  },
  {
   "cell_type": "code",
   "execution_count": 7,
   "id": "3218f9be",
   "metadata": {},
   "outputs": [
    {
     "data": {
      "image/png": "[encoded data removed]",
      "text/plain": [
       "<Figure size 700x400 with 1 Axes>"
      ]
     },
     "metadata": {},
     "output_type": "display_data"
    },
    {
     "name": "stdout",
     "output_type": "stream",
     "text": [
      "The histogram shows two main clusters: one around beauty scores 5.5–6.0 \n",
      "and another near 7.8–8.2. This indicates a bimodal distribution. \n",
      "Slight left-skew is visible, as slightly more teachers fall in the lower beauty range.\n"
     ]
    }
   ],
   "source": [
    "# Q4. Create histogram of beauty variable\n",
    "plt.figure(figsize=(7, 4))\n",
    "sns.histplot(df['beauty'], color='skyblue', edgecolor='black', kde=True)\n",
    "plt.title('Distribution of Beauty Scores', fontsize=14, fontweight='bold')\n",
    "plt.xlabel('Beauty Score', fontsize=12)\n",
    "plt.ylabel('Frequency', fontsize=12)\n",
    "plt.grid(axis='y', linestyle='--', alpha=0.7)\n",
    "plt.show()\n",
    "\n",
    "print(\"The histogram shows two main clusters: one around beauty scores 5.5–6.0 \\n\"\n",
    "      \"and another near 7.8–8.2. This indicates a bimodal distribution. \\n\"\n",
    "      \"Slight left-skew is visible, as slightly more teachers fall in the lower beauty range.\")"
   ]
  },
  {
   "cell_type": "markdown",
   "id": "5423e163",
   "metadata": {},
   "source": [
    "Q5. Does average beauty score differ by gender? Produce the means and standard deviations for both male and female instructors."
   ]
  },
  {
   "cell_type": "code",
   "execution_count": 8,
   "id": "04f0569a",
   "metadata": {},
   "outputs": [
    {
     "name": "stdout",
     "output_type": "stream",
     "text": [
      "Q5. Average Beauty Score by Gender:\n",
      "         mean       std\n",
      "gender                \n",
      "F       7.63  0.476212\n",
      "M       6.11  0.384274 \n",
      "\n",
      "Female instructors have a higher average beauty score than male instructors.\n"
     ]
    }
   ],
   "source": [
    "# Q5. Does average beauty score differ by gender?\n",
    "beauty_by_gender = df.groupby('gender')['beauty'].agg(['mean', 'std'])\n",
    "print(f\"Q5. Average Beauty Score by Gender:\\n {beauty_by_gender} \\n\")\n",
    "\n",
    "print(\"Female instructors have a higher average beauty score than male instructors.\")"
   ]
  },
  {
   "cell_type": "markdown",
   "id": "792521cf",
   "metadata": {},
   "source": [
    "Q6. Calculate the percentage of males and females that are tenured professors. Will you say that tenure status differ by gender?"
   ]
  },
  {
   "cell_type": "code",
   "execution_count": 9,
   "id": "7d7534d1",
   "metadata": {},
   "outputs": [
    {
     "name": "stdout",
     "output_type": "stream",
     "text": [
      "tenure  No  Yes\n",
      "gender         \n",
      "F        7    3\n",
      "M        3    7 \n",
      "\n",
      "Tenure Percentage by Gender:\n",
      " tenure  Percentage_Tenured\n",
      "gender                    \n",
      "F                     30.0\n",
      "M                     70.0 \n",
      "\n",
      "Based on percentages, tenure status slightly differs by gender \n",
      "         Males appear to have a higher tenure rate in this small dataset\n"
     ]
    }
   ],
   "source": [
    "# Q6. Calculate percentage of males and females that are tenured\n",
    "tenure_percent = df.groupby(['gender', 'tenure']).size().unstack(fill_value=0)\n",
    "print(f\"{tenure_percent} \\n\")\n",
    "\n",
    "tenure_percent['Percentage_Tenured'] = (tenure_percent['Yes'] / tenure_percent.sum(axis=1)) * 100\n",
    "print(f\"Tenure Percentage by Gender:\\n {tenure_percent[['Percentage_Tenured']]} \\n\")\n",
    "\n",
    "print(\"Based on percentages, tenure status slightly differs by gender \\n \\\n",
    "        Males appear to have a higher tenure rate in this small dataset\")"
   ]
  },
  {
   "cell_type": "code",
   "execution_count": null,
   "id": "d4c6b916",
   "metadata": {},
   "outputs": [],
   "source": []
  }
 ],
 "metadata": {
  "kernelspec": {
   "display_name": "Python 3 (ipykernel)",
   "language": "python",
   "name": "python3"
  },
  "language_info": {
   "codemirror_mode": {
    "name": "ipython",
    "version": 3
   },
   "file_extension": ".py",
   "mimetype": "text/x-python",
   "name": "python",
   "nbconvert_exporter": "python",
   "pygments_lexer": "ipython3",
   "version": "3.11.4"
  }
 },
 "nbformat": 4,
 "nbformat_minor": 5
}
