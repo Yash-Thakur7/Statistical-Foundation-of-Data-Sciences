{
 "cells": [
  {
   "cell_type": "markdown",
   "id": "12636882",
   "metadata": {},
   "source": [
    "Q1. Using the teachers' rating dataset, what is the probability of receiving an evaluation score of greater than?"
   ]
  },
  {
   "cell_type": "code",
   "execution_count": 1,
   "id": "5827471a",
   "metadata": {},
   "outputs": [],
   "source": [
    "import numpy as np\n",
    "from scipy import stats\n",
    "import math"
   ]
  },
  {
   "cell_type": "code",
   "execution_count": 3,
   "id": "456ff973",
   "metadata": {},
   "outputs": [
    {
     "data": {
      "text/plain": [
       "array([3.4, 2.7, 4.2, 4.8, 3.1, 4. , 4.9, 3.6, 4.4, 3. , 4.5, 3.5, 4.1,\n",
       "       4.3, 3.8, 4.9, 4. , 3.2, 4.6, 3.7, 4.3, 4.2, 3.3, 4.7, 3.6, 4.6,\n",
       "       3.4, 4.1, 4.5, 2.9, 5. , 2.6, 4.4, 3.8, 4.3, 3.7, 4.7, 4. , 3.9,\n",
       "       4.2, 4.1, 3.7, 4.8, 4.3, 3.4, 4.6, 4.2, 2.8, 4.7, 4. ])"
      ]
     },
     "execution_count": 3,
     "metadata": {},
     "output_type": "execute_result"
    }
   ],
   "source": [
    "ratings = np.array([\n",
    "    3.4, 2.7, 4.2, 4.8, 3.1, 4.0, 4.9, 3.6, 4.4, 3.0, 4.5, 3.5, 4.1, 4.3, 3.8,\n",
    "    4.9, 4.0, 3.2, 4.6, 3.7, 4.3, 4.2, 3.3, 4.7, 3.6, 4.6, 3.4, 4.1, 4.5, 2.9,\n",
    "    5.0, 2.6, 4.4, 3.8, 4.3, 3.7, 4.7, 4.0, 3.9, 4.2, 4.1, 3.7, 4.8, 4.3, 3.4,\n",
    "    4.6, 4.2, 2.8, 4.7, 4.0\n",
    "])\n",
    "ratings"
   ]
  },
  {
   "cell_type": "code",
   "execution_count": 4,
   "id": "630cdc36",
   "metadata": {},
   "outputs": [
    {
     "name": "stdout",
     "output_type": "stream",
     "text": [
      "Q1: Probability of receiving a score > 4.5\n",
      "   - Count of scores > 4.5: 11\n",
      "   - Total scores: 50\n",
      "   - Probability: 11/50 = 0.22 or 22%\n",
      "\n"
     ]
    }
   ],
   "source": [
    "# Q1: Probability of a score greater than 4.5\n",
    "\n",
    "# Count how many scores are > 4.5\n",
    "count_gt_4_5 = np.sum(ratings > 4.5)\n",
    "total_count = len(ratings)\n",
    "# Calculate the probability\n",
    "prob_gt_4_5 = count_gt_4_5 / total_count\n",
    "\n",
    "print(f\"Q1: Probability of receiving a score > 4.5\")\n",
    "print(f\"   - Count of scores > 4.5: {count_gt_4_5}\")\n",
    "print(f\"   - Total scores: {total_count}\")\n",
    "print(f\"   - Probability: {count_gt_4_5}/{total_count} = {prob_gt_4_5:.2f} or {prob_gt_4_5:.0%}\\n\")"
   ]
  },
  {
   "cell_type": "markdown",
   "id": "ed8c7963",
   "metadata": {},
   "source": [
    "Q2. Using the teachers' rating dataset, what is the probability of receiving an evaluation score greeter Ihan 35 and less than?"
   ]
  },
  {
   "cell_type": "code",
   "execution_count": 5,
   "id": "418b8369",
   "metadata": {},
   "outputs": [
    {
     "name": "stdout",
     "output_type": "stream",
     "text": [
      "Q2: Probability of receiving a score > 3.5 and < 4.2\n",
      "   - Count of scores in range: 15\n",
      "   - Total scores: 50\n",
      "   - Probability: 15/50 = 0.30 or 30%\n",
      "\n"
     ]
    }
   ],
   "source": [
    "# Use a boolean mask to find scores that meet both conditions\n",
    "count_between = np.sum((ratings > 3.5) & (ratings < 4.2))\n",
    "# Calculate the probability\n",
    "prob_between = count_between / total_count\n",
    "\n",
    "print(f\"Q2: Probability of receiving a score > 3.5 and < 4.2\")\n",
    "print(f\"   - Count of scores in range: {count_between}\")\n",
    "print(f\"   - Total scores: {total_count}\")\n",
    "print(f\"   - Probability: {count_between}/{total_count} = {prob_between:.2f} or {prob_between:.0%}\\n\")"
   ]
  },
  {
   "cell_type": "markdown",
   "id": "8ec77621",
   "metadata": {},
   "source": [
    "Q3. Using the two-tailed test from a normal distribution\n",
    "\n",
    "1. A professional basketball team wants to compare its performance with that of players in a regional league\n",
    "\n",
    "2. The pros are known to have a historic mean of 12 points per game with a standard deviation of 5 5\n",
    "\n",
    "3. A group of 36 regional players recorded on average 10 7 points per game\n",
    "\n",
    "4. The pro coach would like to know whether his professional team scores on average are different from that of the regionat players\n",
    "\n",
    "State the null hypothesis\n",
    "\n",
    "Null Hypo (The mean point of the regional players is not different from the historic mean\")\n",
    "\n",
    "Alternative Hypo: (\"The mean point of the regional players is different from the historic mean\")"
   ]
  },
  {
   "cell_type": "code",
   "execution_count": 10,
   "id": "75977e93",
   "metadata": {},
   "outputs": [
    {
     "name": "stdout",
     "output_type": "stream",
     "text": [
      "Null Hypothesis (H0): The mean score of the regional players is equal to 12.\n",
      "Alternative Hypothesis (Ha): The mean score of the regional players is not equal to 12.\n",
      "\n",
      "Performing the Two-Tailed Z-test:\n",
      "   - Sample Mean (x̄): 10.7\n",
      "   - Z-score: -1.4182\n",
      "   - P-value: 0.1561\n",
      "\n",
      "Conclusion (at α = 0.05 significance level):\n",
      "   - Since the p-value (0.1561) is greater than 0.05, we FAIL TO REJECT the null hypothesis.\n",
      "   - There is not enough evidence to conclude that the professional team's average score is different from that of the regional players.\n"
     ]
    }
   ],
   "source": [
    "import math\n",
    "from scipy import stats\n",
    "\n",
    "# Hypotheses\n",
    "print(\"Null Hypothesis (H0): The mean score of the regional players is equal to 12.\")\n",
    "print(\"Alternative Hypothesis (Ha): The mean score of the regional players is not equal to 12.\\n\")\n",
    "\n",
    "# Given information\n",
    "mu_0 = 12       # Historic mean (population mean under H0)\n",
    "sigma = 5.5     # Population standard deviation\n",
    "n = 36          # Sample size\n",
    "x_bar = 10.7    # Sample mean\n",
    "\n",
    "# Step 1: Calculate the standard error of the mean (SEM)\n",
    "sem = sigma / math.sqrt(n)\n",
    "\n",
    "# Step 2: Calculate the Z-score\n",
    "z_score = (x_bar - mu_0) / sem\n",
    "\n",
    "# Step 3: Calculate the p-value (two-tailed test)\n",
    "p_value = 2 * stats.norm.cdf(z_score) if z_score < 0 else 2 * (1 - stats.norm.cdf(z_score))\n",
    "\n",
    "# Output results\n",
    "print(\"Performing the Two-Tailed Z-test:\")\n",
    "print(f\"   - Sample Mean (x̄): {x_bar}\")\n",
    "print(f\"   - Z-score: {z_score:.4f}\")\n",
    "print(f\"   - P-value: {p_value:.4f}\\n\")\n",
    "\n",
    "# Step 4: Decision\n",
    "alpha = 0.05\n",
    "print(f\"Conclusion (at α = {alpha} significance level):\")\n",
    "if p_value < alpha:\n",
    "    print(f\"   - Since the p-value ({p_value:.4f}) is less than {alpha}, we REJECT the null hypothesis.\")\n",
    "    print(\"   - There is statistically significant evidence to conclude that the professional team's average score is different from that of the regional players.\")\n",
    "else:\n",
    "    print(f\"   - Since the p-value ({p_value:.4f}) is greater than {alpha}, we FAIL TO REJECT the null hypothesis.\")\n",
    "    print(\"   - There is not enough evidence to conclude that the professional team's average score is different from that of the regional players.\")\n"
   ]
  }
 ],
 "metadata": {
  "kernelspec": {
   "display_name": "Python 3 (ipykernel)",
   "language": "python",
   "name": "python3"
  },
  "language_info": {
   "codemirror_mode": {
    "name": "ipython",
    "version": 3
   },
   "file_extension": ".py",
   "mimetype": "text/x-python",
   "name": "python",
   "nbconvert_exporter": "python",
   "pygments_lexer": "ipython3",
   "version": "3.11.4"
  }
 },
 "nbformat": 4,
 "nbformat_minor": 5
}
